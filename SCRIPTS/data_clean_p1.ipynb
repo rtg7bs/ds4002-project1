{
 "cells": [
  {
   "cell_type": "code",
   "execution_count": 1,
   "metadata": {},
   "outputs": [],
   "source": [
    "import pandas as pd"
   ]
  },
  {
   "cell_type": "code",
   "execution_count": 2,
   "metadata": {},
   "outputs": [],
   "source": [
    "# load data\n",
    "vn = pd.read_csv(r\"C:\\Users\\vance\\Desktop\\project_folder\\sample_city.csv\")\n",
    "bh = pd.read_csv(r\"C:\\Users\\vance\\Desktop\\project_folder\\combined_clean_ben.csv\")\n",
    "ct = pd.read_csv(r\"C:\\Users\\vance\\Desktop\\project_folder\\christine_cities_fixed.csv\")"
   ]
  },
  {
   "cell_type": "code",
   "execution_count": 3,
   "metadata": {},
   "outputs": [],
   "source": [
    "# drop columns and for merge\n",
    "vn = vn.drop(columns=['Unnamed: 0'], axis = 1)\n",
    "bh = bh.drop(columns=['Unnamed: 0', '...1', 'reviewer_id', 'host_id','amenities', 'number_of_reviews', 'review_scores_rating', 'reviews_per_month'])"
   ]
  },
  {
   "cell_type": "code",
   "execution_count": 4,
   "metadata": {},
   "outputs": [],
   "source": [
    "vn = vn.reindex(columns=['listing_id', 'review_id', 'comments','price','city'])\n"
   ]
  },
  {
   "cell_type": "code",
   "execution_count": 5,
   "metadata": {},
   "outputs": [],
   "source": [
    "bh = bh.rename(columns={'id': 'review_id'})"
   ]
  },
  {
   "cell_type": "code",
   "execution_count": 6,
   "metadata": {},
   "outputs": [],
   "source": [
    "vn = vn.to_frame() if isinstance(vn, pd.Series) else vn\n",
    "bh = bh.to_frame() if isinstance(bh, pd.Series) else bh\n",
    "ct = ct.to_frame() if isinstance(ct, pd.Series) else ct"
   ]
  },
  {
   "cell_type": "code",
   "execution_count": 7,
   "metadata": {},
   "outputs": [],
   "source": [
    "df_all = pd.concat([vn, bh, ct], axis=0,ignore_index=True)"
   ]
  },
  {
   "cell_type": "code",
   "execution_count": 8,
   "metadata": {},
   "outputs": [],
   "source": [
    "df_all['listing_id'] = df_all['listing_id'].astype('float64')\n",
    "df_all['comments'] = df_all['comments'].astype('string')\n",
    "df_all['city'] = df_all['city'].astype('string')"
   ]
  },
  {
   "cell_type": "code",
   "execution_count": 20,
   "metadata": {},
   "outputs": [
    {
     "data": {
      "text/plain": [
       "listing_id    0\n",
       "review_id     0\n",
       "comments      0\n",
       "price         0\n",
       "city          0\n",
       "dtype: int64"
      ]
     },
     "execution_count": 20,
     "metadata": {},
     "output_type": "execute_result"
    }
   ],
   "source": [
    "df_all.isna().sum()"
   ]
  },
  {
   "cell_type": "code",
   "execution_count": 21,
   "metadata": {},
   "outputs": [],
   "source": [
    "df_all.to_csv(r\"C:\\Users\\vance\\Desktop\\project_folder\\df_clean.csv\")"
   ]
  }
 ],
 "metadata": {
  "kernelspec": {
   "display_name": "jupyterlab-env",
   "language": "python",
   "name": "python3"
  },
  "language_info": {
   "codemirror_mode": {
    "name": "ipython",
    "version": 3
   },
   "file_extension": ".py",
   "mimetype": "text/x-python",
   "name": "python",
   "nbconvert_exporter": "python",
   "pygments_lexer": "ipython3",
   "version": "3.12.3"
  }
 },
 "nbformat": 4,
 "nbformat_minor": 2
}
